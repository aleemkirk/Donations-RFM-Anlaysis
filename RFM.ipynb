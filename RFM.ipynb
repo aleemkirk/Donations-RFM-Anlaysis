{
 "cells": [
  {
   "attachments": {},
   "cell_type": "markdown",
   "metadata": {},
   "source": [
    "Conduct RFM (recency, frequency, monetary value) analysis on political donors in the UK"
   ]
  },
  {
   "cell_type": "code",
   "execution_count": 18,
   "metadata": {},
   "outputs": [],
   "source": [
    "#imports\n",
    "import pandas as pd\n",
    "import datetime as dt \n",
    "import numpy as np"
   ]
  },
  {
   "attachments": {},
   "cell_type": "markdown",
   "metadata": {},
   "source": [
    "# DATA PROCESSING"
   ]
  },
  {
   "cell_type": "code",
   "execution_count": 19,
   "metadata": {},
   "outputs": [
    {
     "name": "stderr",
     "output_type": "stream",
     "text": [
      "/var/folders/9t/ywq9gg3s4zbgn2zw5tfskbv00000gn/T/ipykernel_23597/3107819911.py:2: DtypeWarning: Columns (16) have mixed types. Specify dtype option on import or set low_memory=False.\n",
      "  df = pd.read_csv('data/Donations accepted by political parties.csv')\n"
     ]
    },
    {
     "data": {
      "text/plain": [
       "(65278, 29)"
      ]
     },
     "execution_count": 19,
     "metadata": {},
     "output_type": "execute_result"
    }
   ],
   "source": [
    "#read data\n",
    "df = pd.read_csv('data/Donations accepted by political parties.csv')\n",
    "df.shape"
   ]
  },
  {
   "cell_type": "code",
   "execution_count": 20,
   "metadata": {},
   "outputs": [
    {
     "data": {
      "text/plain": [
       "(62492, 29)"
      ]
     },
     "execution_count": 20,
     "metadata": {},
     "output_type": "execute_result"
    }
   ],
   "source": [
    "\n",
    "#drop all nans from the columns that we will be using\n",
    "df = df.dropna(subset=['Value', 'DonorId', 'ReceivedDate'])\n",
    "df.shape"
   ]
  },
  {
   "cell_type": "code",
   "execution_count": 21,
   "metadata": {},
   "outputs": [],
   "source": [
    "#change received data from string to datetime\n",
    "df['ReceivedDate'] = pd.to_datetime(df['ReceivedDate'], format='%d/%m/%Y')\n",
    "df['Value'] = df['Value'].replace('[\\£,]', '', regex=True).astype(float)\n",
    "\n"
   ]
  },
  {
   "attachments": {},
   "cell_type": "markdown",
   "metadata": {},
   "source": [
    "# RFM ANALYSIS "
   ]
  },
  {
   "cell_type": "code",
   "execution_count": 22,
   "metadata": {},
   "outputs": [
    {
     "data": {
      "text/plain": [
       "<bound method NDFrame.head of        DonorId LastPurchaseDate  Recency\n",
       "0          1.0       2001-05-14     6685\n",
       "1          2.0       2003-08-11     5866\n",
       "2          3.0       2015-02-18     1657\n",
       "3          4.0       2010-12-31     3167\n",
       "4          5.0       2009-12-15     3548\n",
       "...        ...              ...      ...\n",
       "42183  87473.0       2019-08-05       28\n",
       "42184  87478.0       2018-11-01      305\n",
       "42185  87479.0       2009-12-29     3534\n",
       "42186  87480.0       2017-03-13      903\n",
       "42187  87482.0       2014-02-06     2034\n",
       "\n",
       "[42188 rows x 3 columns]>"
      ]
     },
     "execution_count": 22,
     "metadata": {},
     "output_type": "execute_result"
    }
   ],
   "source": [
    "#Compute recency values\n",
    "recency_df = df.groupby(by='DonorId', as_index=False)['ReceivedDate'].max()\n",
    "recency_df.columns = ['DonorId', 'LastPurchaseDate']\n",
    "recent_date = recency_df['LastPurchaseDate'].max()\n",
    "recency_df['Recency'] = recency_df['LastPurchaseDate'].apply(\n",
    "    lambda x: (recent_date - x).days)\n",
    "recency_df.head"
   ]
  },
  {
   "cell_type": "code",
   "execution_count": 23,
   "metadata": {},
   "outputs": [
    {
     "data": {
      "text/plain": [
       "<bound method NDFrame.head of        CustomerName  Frequency\n",
       "0               1.0          2\n",
       "1               2.0          2\n",
       "2               3.0          3\n",
       "3               4.0         10\n",
       "4               5.0          3\n",
       "...             ...        ...\n",
       "42183       87473.0          1\n",
       "42184       87478.0          2\n",
       "42185       87479.0          1\n",
       "42186       87480.0          1\n",
       "42187       87482.0          1\n",
       "\n",
       "[42188 rows x 2 columns]>"
      ]
     },
     "execution_count": 23,
     "metadata": {},
     "output_type": "execute_result"
    }
   ],
   "source": [
    "#Compute Frequency \n",
    "frequency_df = df.drop_duplicates().groupby(\n",
    "    by=['DonorId'], as_index=False)['ReceivedDate'].count()\n",
    "frequency_df.columns = ['CustomerName', 'Frequency']\n",
    "frequency_df.head"
   ]
  },
  {
   "cell_type": "code",
   "execution_count": 24,
   "metadata": {},
   "outputs": [
    {
     "data": {
      "text/plain": [
       "<bound method NDFrame.head of        CustomerName   Monetary\n",
       "0               1.0   53000.00\n",
       "1               2.0  118680.84\n",
       "2               3.0   26625.00\n",
       "3               4.0   59495.89\n",
       "4               5.0    7700.00\n",
       "...             ...        ...\n",
       "42183       87473.0    4000.00\n",
       "42184       87478.0    3529.41\n",
       "42185       87479.0   11520.00\n",
       "42186       87480.0  157350.07\n",
       "42187       87482.0   50000.00\n",
       "\n",
       "[42188 rows x 2 columns]>"
      ]
     },
     "execution_count": 24,
     "metadata": {},
     "output_type": "execute_result"
    }
   ],
   "source": [
    "#Compute Monetary Value\n",
    "monetary_df = df.groupby(by='DonorId', as_index=False)['Value'].sum()\n",
    "monetary_df.columns = ['CustomerName', 'Monetary']\n",
    "monetary_df.head"
   ]
  },
  {
   "cell_type": "code",
   "execution_count": null,
   "metadata": {},
   "outputs": [],
   "source": [
    "#merge R, F & M values into one df\n",
    "rfm = pd.merge()"
   ]
  }
 ],
 "metadata": {
  "kernelspec": {
   "display_name": "RFM",
   "language": "python",
   "name": "python3"
  },
  "language_info": {
   "codemirror_mode": {
    "name": "ipython",
    "version": 3
   },
   "file_extension": ".py",
   "mimetype": "text/x-python",
   "name": "python",
   "nbconvert_exporter": "python",
   "pygments_lexer": "ipython3",
   "version": "3.12.4"
  }
 },
 "nbformat": 4,
 "nbformat_minor": 2
}
