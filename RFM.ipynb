{
 "cells": [
  {
   "attachments": {},
   "cell_type": "markdown",
   "metadata": {},
   "source": [
    "Conduct RFM (recency, frequency, monetary value) analysis on political donors in the UK"
   ]
  },
  {
   "cell_type": "code",
   "execution_count": 7,
   "metadata": {},
   "outputs": [],
   "source": [
    "#imports\n",
    "import pandas as pd"
   ]
  },
  {
   "cell_type": "code",
   "execution_count": 23,
   "metadata": {},
   "outputs": [
    {
     "name": "stderr",
     "output_type": "stream",
     "text": [
      "/var/folders/9t/ywq9gg3s4zbgn2zw5tfskbv00000gn/T/ipykernel_21627/3644051415.py:2: DtypeWarning: Columns (16) have mixed types. Specify dtype option on import or set low_memory=False.\n",
      "  df = pd.read_csv('data/Donations accepted by political parties.csv')\n"
     ]
    }
   ],
   "source": [
    "#read data\n",
    "df = pd.read_csv('data/Donations accepted by political parties.csv')\n",
    "df = df.dropna()\n",
    "df['ReceivedDate']= pd.to_datetime(df['ReceivedDate'])"
   ]
  },
  {
   "cell_type": "code",
   "execution_count": 24,
   "metadata": {},
   "outputs": [
    {
     "ename": "ValueError",
     "evalue": "Bin edges must be unique: Index([nan, nan, nan, nan, nan, nan], dtype='float64', name='recency').\nYou can drop duplicate edges by setting the 'duplicates' kwarg",
     "output_type": "error",
     "traceback": [
      "\u001b[0;31m---------------------------------------------------------------------------\u001b[0m",
      "\u001b[0;31mValueError\u001b[0m                                Traceback (most recent call last)",
      "Cell \u001b[0;32mIn[24], line 1\u001b[0m\n\u001b[0;32m----> 1\u001b[0m r \u001b[39m=\u001b[39m RFM(df, customer_id\u001b[39m=\u001b[39;49m\u001b[39m'\u001b[39;49m\u001b[39mDonorId\u001b[39;49m\u001b[39m'\u001b[39;49m, transaction_date\u001b[39m=\u001b[39;49m\u001b[39m'\u001b[39;49m\u001b[39mReceivedDate\u001b[39;49m\u001b[39m'\u001b[39;49m, amount\u001b[39m=\u001b[39;49m\u001b[39m'\u001b[39;49m\u001b[39mValue\u001b[39;49m\u001b[39m'\u001b[39;49m)\n",
      "File \u001b[0;32m/opt/anaconda3/envs/RFM/lib/python3.12/site-packages/rfm/rfm.py:31\u001b[0m, in \u001b[0;36mRFM.__init__\u001b[0;34m(self, df, customer_id, transaction_date, amount, automated)\u001b[0m\n\u001b[1;32m     29\u001b[0m \u001b[39mif\u001b[39;00m automated:\n\u001b[1;32m     30\u001b[0m     df_grp \u001b[39m=\u001b[39m \u001b[39mself\u001b[39m\u001b[39m.\u001b[39mproduce_rfm_dateset(\u001b[39mself\u001b[39m\u001b[39m.\u001b[39mdf)\n\u001b[0;32m---> 31\u001b[0m     df_grp \u001b[39m=\u001b[39m \u001b[39mself\u001b[39;49m\u001b[39m.\u001b[39;49mcalculate_rfm_score(df_grp)\n\u001b[1;32m     32\u001b[0m     \u001b[39mself\u001b[39m\u001b[39m.\u001b[39mrfm_table \u001b[39m=\u001b[39m \u001b[39mself\u001b[39m\u001b[39m.\u001b[39mfind_segments(df_grp)\n\u001b[1;32m     33\u001b[0m     \u001b[39mself\u001b[39m\u001b[39m.\u001b[39msegment_table \u001b[39m=\u001b[39m \u001b[39mself\u001b[39m\u001b[39m.\u001b[39mfind_segment_df(\u001b[39mself\u001b[39m\u001b[39m.\u001b[39mrfm_table)\n",
      "File \u001b[0;32m/opt/anaconda3/envs/RFM/lib/python3.12/site-packages/rfm/rfm.py:227\u001b[0m, in \u001b[0;36mRFM.calculate_rfm_score\u001b[0;34m(self, df)\u001b[0m\n\u001b[1;32m    213\u001b[0m \u001b[39mdef\u001b[39;00m \u001b[39mcalculate_rfm_score\u001b[39m(\u001b[39mself\u001b[39m, df:pd\u001b[39m.\u001b[39mDataFrame)\u001b[39m-\u001b[39m\u001b[39m>\u001b[39mpd\u001b[39m.\u001b[39mDataFrame:\n\u001b[1;32m    214\u001b[0m \u001b[39m    \u001b[39m\u001b[39m\"\"\"\u001b[39;00m\n\u001b[1;32m    215\u001b[0m \u001b[39m    calculate_rfm_score(df)\u001b[39;00m\n\u001b[1;32m    216\u001b[0m \u001b[39m    |\u001b[39;00m\n\u001b[0;32m   (...)\u001b[0m\n\u001b[1;32m    225\u001b[0m \u001b[39m    |  df : pd.DataFrame object\u001b[39;00m\n\u001b[1;32m    226\u001b[0m \u001b[39m    \"\"\"\u001b[39;00m\n\u001b[0;32m--> 227\u001b[0m     df[\u001b[39m'\u001b[39m\u001b[39mr\u001b[39m\u001b[39m'\u001b[39m] \u001b[39m=\u001b[39m pd\u001b[39m.\u001b[39;49mqcut(df[\u001b[39m'\u001b[39;49m\u001b[39mrecency\u001b[39;49m\u001b[39m'\u001b[39;49m]\u001b[39m.\u001b[39;49mrank(method\u001b[39m=\u001b[39;49m\u001b[39m'\u001b[39;49m\u001b[39mfirst\u001b[39;49m\u001b[39m'\u001b[39;49m),\u001b[39m5\u001b[39;49m,labels\u001b[39m=\u001b[39;49m[\u001b[39m5\u001b[39;49m,\u001b[39m4\u001b[39;49m,\u001b[39m3\u001b[39;49m,\u001b[39m2\u001b[39;49m,\u001b[39m1\u001b[39;49m])\u001b[39m.\u001b[39mtolist()\n\u001b[1;32m    228\u001b[0m     df[\u001b[39m'\u001b[39m\u001b[39mf\u001b[39m\u001b[39m'\u001b[39m] \u001b[39m=\u001b[39m pd\u001b[39m.\u001b[39mqcut(df[\u001b[39m'\u001b[39m\u001b[39mfrequency\u001b[39m\u001b[39m'\u001b[39m]\u001b[39m.\u001b[39mrank(method\u001b[39m=\u001b[39m\u001b[39m'\u001b[39m\u001b[39mfirst\u001b[39m\u001b[39m'\u001b[39m),\u001b[39m5\u001b[39m,labels\u001b[39m=\u001b[39m[\u001b[39m1\u001b[39m,\u001b[39m2\u001b[39m,\u001b[39m3\u001b[39m,\u001b[39m4\u001b[39m,\u001b[39m5\u001b[39m])\u001b[39m.\u001b[39mtolist()\n\u001b[1;32m    229\u001b[0m     df[\u001b[39m'\u001b[39m\u001b[39mm\u001b[39m\u001b[39m'\u001b[39m] \u001b[39m=\u001b[39m pd\u001b[39m.\u001b[39mqcut(df[\u001b[39m'\u001b[39m\u001b[39mmonetary_value\u001b[39m\u001b[39m'\u001b[39m]\u001b[39m.\u001b[39mrank(method\u001b[39m=\u001b[39m\u001b[39m'\u001b[39m\u001b[39mfirst\u001b[39m\u001b[39m'\u001b[39m),\u001b[39m5\u001b[39m,labels\u001b[39m=\u001b[39m[\u001b[39m1\u001b[39m,\u001b[39m2\u001b[39m,\u001b[39m3\u001b[39m,\u001b[39m4\u001b[39m,\u001b[39m5\u001b[39m])\u001b[39m.\u001b[39mtolist()\n",
      "File \u001b[0;32m/opt/anaconda3/envs/RFM/lib/python3.12/site-packages/pandas/core/reshape/tile.py:340\u001b[0m, in \u001b[0;36mqcut\u001b[0;34m(x, q, labels, retbins, precision, duplicates)\u001b[0m\n\u001b[1;32m    336\u001b[0m quantiles \u001b[39m=\u001b[39m np\u001b[39m.\u001b[39mlinspace(\u001b[39m0\u001b[39m, \u001b[39m1\u001b[39m, q \u001b[39m+\u001b[39m \u001b[39m1\u001b[39m) \u001b[39mif\u001b[39;00m is_integer(q) \u001b[39melse\u001b[39;00m q\n\u001b[1;32m    338\u001b[0m bins \u001b[39m=\u001b[39m x_idx\u001b[39m.\u001b[39mto_series()\u001b[39m.\u001b[39mdropna()\u001b[39m.\u001b[39mquantile(quantiles)\n\u001b[0;32m--> 340\u001b[0m fac, bins \u001b[39m=\u001b[39m _bins_to_cuts(\n\u001b[1;32m    341\u001b[0m     x_idx,\n\u001b[1;32m    342\u001b[0m     Index(bins),\n\u001b[1;32m    343\u001b[0m     labels\u001b[39m=\u001b[39;49mlabels,\n\u001b[1;32m    344\u001b[0m     precision\u001b[39m=\u001b[39;49mprecision,\n\u001b[1;32m    345\u001b[0m     include_lowest\u001b[39m=\u001b[39;49m\u001b[39mTrue\u001b[39;49;00m,\n\u001b[1;32m    346\u001b[0m     duplicates\u001b[39m=\u001b[39;49mduplicates,\n\u001b[1;32m    347\u001b[0m )\n\u001b[1;32m    349\u001b[0m \u001b[39mreturn\u001b[39;00m _postprocess_for_cut(fac, bins, retbins, original)\n",
      "File \u001b[0;32m/opt/anaconda3/envs/RFM/lib/python3.12/site-packages/pandas/core/reshape/tile.py:443\u001b[0m, in \u001b[0;36m_bins_to_cuts\u001b[0;34m(x_idx, bins, right, labels, precision, include_lowest, duplicates, ordered)\u001b[0m\n\u001b[1;32m    441\u001b[0m \u001b[39mif\u001b[39;00m \u001b[39mlen\u001b[39m(unique_bins) \u001b[39m<\u001b[39m \u001b[39mlen\u001b[39m(bins) \u001b[39mand\u001b[39;00m \u001b[39mlen\u001b[39m(bins) \u001b[39m!=\u001b[39m \u001b[39m2\u001b[39m:\n\u001b[1;32m    442\u001b[0m     \u001b[39mif\u001b[39;00m duplicates \u001b[39m==\u001b[39m \u001b[39m\"\u001b[39m\u001b[39mraise\u001b[39m\u001b[39m\"\u001b[39m:\n\u001b[0;32m--> 443\u001b[0m         \u001b[39mraise\u001b[39;00m \u001b[39mValueError\u001b[39;00m(\n\u001b[1;32m    444\u001b[0m             \u001b[39mf\u001b[39m\u001b[39m\"\u001b[39m\u001b[39mBin edges must be unique: \u001b[39m\u001b[39m{\u001b[39;00m\u001b[39mrepr\u001b[39m(bins)\u001b[39m}\u001b[39;00m\u001b[39m.\u001b[39m\u001b[39m\\n\u001b[39;00m\u001b[39m\"\u001b[39m\n\u001b[1;32m    445\u001b[0m             \u001b[39mf\u001b[39m\u001b[39m\"\u001b[39m\u001b[39mYou can drop duplicate edges by setting the \u001b[39m\u001b[39m'\u001b[39m\u001b[39mduplicates\u001b[39m\u001b[39m'\u001b[39m\u001b[39m kwarg\u001b[39m\u001b[39m\"\u001b[39m\n\u001b[1;32m    446\u001b[0m         )\n\u001b[1;32m    447\u001b[0m     bins \u001b[39m=\u001b[39m unique_bins\n\u001b[1;32m    449\u001b[0m side: Literal[\u001b[39m\"\u001b[39m\u001b[39mleft\u001b[39m\u001b[39m\"\u001b[39m, \u001b[39m\"\u001b[39m\u001b[39mright\u001b[39m\u001b[39m\"\u001b[39m] \u001b[39m=\u001b[39m \u001b[39m\"\u001b[39m\u001b[39mleft\u001b[39m\u001b[39m\"\u001b[39m \u001b[39mif\u001b[39;00m right \u001b[39melse\u001b[39;00m \u001b[39m\"\u001b[39m\u001b[39mright\u001b[39m\u001b[39m\"\u001b[39m\n",
      "\u001b[0;31mValueError\u001b[0m: Bin edges must be unique: Index([nan, nan, nan, nan, nan, nan], dtype='float64', name='recency').\nYou can drop duplicate edges by setting the 'duplicates' kwarg"
     ]
    }
   ],
   "source": []
  }
 ],
 "metadata": {
  "kernelspec": {
   "display_name": "RFM",
   "language": "python",
   "name": "python3"
  },
  "language_info": {
   "codemirror_mode": {
    "name": "ipython",
    "version": 3
   },
   "file_extension": ".py",
   "mimetype": "text/x-python",
   "name": "python",
   "nbconvert_exporter": "python",
   "pygments_lexer": "ipython3",
   "version": "3.12.4"
  }
 },
 "nbformat": 4,
 "nbformat_minor": 2
}
