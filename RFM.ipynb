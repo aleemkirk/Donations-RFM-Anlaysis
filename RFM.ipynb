{
 "cells": [
  {
   "attachments": {},
   "cell_type": "markdown",
   "metadata": {},
   "source": [
    "Conduct RFM (recency, frequency, monetary value) analysis on political donors in the UK"
   ]
  },
  {
   "cell_type": "code",
   "execution_count": 91,
   "metadata": {},
   "outputs": [],
   "source": [
    "#imports\n",
    "import pandas as pd\n",
    "import datetime as dt \n",
    "import numpy as np"
   ]
  },
  {
   "attachments": {},
   "cell_type": "markdown",
   "metadata": {},
   "source": [
    "# DATA PROCESSING"
   ]
  },
  {
   "cell_type": "code",
   "execution_count": 92,
   "metadata": {},
   "outputs": [
    {
     "name": "stderr",
     "output_type": "stream",
     "text": [
      "/var/folders/9t/ywq9gg3s4zbgn2zw5tfskbv00000gn/T/ipykernel_23597/3107819911.py:2: DtypeWarning: Columns (16) have mixed types. Specify dtype option on import or set low_memory=False.\n",
      "  df = pd.read_csv('data/Donations accepted by political parties.csv')\n"
     ]
    },
    {
     "data": {
      "text/plain": [
       "(65278, 29)"
      ]
     },
     "execution_count": 92,
     "metadata": {},
     "output_type": "execute_result"
    }
   ],
   "source": [
    "#read data\n",
    "df = pd.read_csv('data/Donations accepted by political parties.csv')\n",
    "df.shape"
   ]
  },
  {
   "cell_type": "code",
   "execution_count": 93,
   "metadata": {},
   "outputs": [
    {
     "data": {
      "text/plain": [
       "(62492, 29)"
      ]
     },
     "execution_count": 93,
     "metadata": {},
     "output_type": "execute_result"
    }
   ],
   "source": [
    "\n",
    "#drop all nans from the columns that we will be using\n",
    "df = df.dropna(subset=['Value', 'DonorId', 'ReceivedDate'])\n",
    "df.shape"
   ]
  },
  {
   "cell_type": "code",
   "execution_count": 94,
   "metadata": {},
   "outputs": [],
   "source": [
    "#change received data from string to datetime\n",
    "df['ReceivedDate'] = pd.to_datetime(df['ReceivedDate'], format='%d/%m/%Y')\n",
    "df['Value'] = df['Value'].replace('[\\£,]', '', regex=True).astype(float)\n",
    "\n"
   ]
  },
  {
   "attachments": {},
   "cell_type": "markdown",
   "metadata": {},
   "source": [
    "# RFM ANALYSIS "
   ]
  },
  {
   "cell_type": "code",
   "execution_count": 95,
   "metadata": {},
   "outputs": [
    {
     "data": {
      "text/plain": [
       "<bound method NDFrame.head of        DonorId LastPurchaseDate  Recency\n",
       "0          1.0       2001-05-14     6685\n",
       "1          2.0       2003-08-11     5866\n",
       "2          3.0       2015-02-18     1657\n",
       "3          4.0       2010-12-31     3167\n",
       "4          5.0       2009-12-15     3548\n",
       "...        ...              ...      ...\n",
       "42183  87473.0       2019-08-05       28\n",
       "42184  87478.0       2018-11-01      305\n",
       "42185  87479.0       2009-12-29     3534\n",
       "42186  87480.0       2017-03-13      903\n",
       "42187  87482.0       2014-02-06     2034\n",
       "\n",
       "[42188 rows x 3 columns]>"
      ]
     },
     "execution_count": 95,
     "metadata": {},
     "output_type": "execute_result"
    }
   ],
   "source": [
    "#Compute recency values\n",
    "recency_df = df.groupby(by='DonorId', as_index=False)['ReceivedDate'].max()\n",
    "recency_df.columns = ['DonorId', 'LastPurchaseDate']\n",
    "recent_date = recency_df['LastPurchaseDate'].max()\n",
    "recency_df['Recency'] = recency_df['LastPurchaseDate'].apply(\n",
    "    lambda x: (recent_date - x).days)\n",
    "recency_df.head"
   ]
  },
  {
   "cell_type": "code",
   "execution_count": 96,
   "metadata": {},
   "outputs": [
    {
     "data": {
      "text/plain": [
       "<bound method NDFrame.head of        DonorId  Frequency\n",
       "0          1.0          2\n",
       "1          2.0          2\n",
       "2          3.0          3\n",
       "3          4.0         10\n",
       "4          5.0          3\n",
       "...        ...        ...\n",
       "42183  87473.0          1\n",
       "42184  87478.0          2\n",
       "42185  87479.0          1\n",
       "42186  87480.0          1\n",
       "42187  87482.0          1\n",
       "\n",
       "[42188 rows x 2 columns]>"
      ]
     },
     "execution_count": 96,
     "metadata": {},
     "output_type": "execute_result"
    }
   ],
   "source": [
    "#Compute Frequency \n",
    "frequency_df = df.drop_duplicates().groupby(\n",
    "    by=['DonorId'], as_index=False)['ReceivedDate'].count()\n",
    "frequency_df.columns = ['DonorId', 'Frequency']\n",
    "frequency_df.head"
   ]
  },
  {
   "cell_type": "code",
   "execution_count": 97,
   "metadata": {},
   "outputs": [
    {
     "data": {
      "text/plain": [
       "<bound method NDFrame.head of        DonorId   Monetary\n",
       "0          1.0   53000.00\n",
       "1          2.0  118680.84\n",
       "2          3.0   26625.00\n",
       "3          4.0   59495.89\n",
       "4          5.0    7700.00\n",
       "...        ...        ...\n",
       "42183  87473.0    4000.00\n",
       "42184  87478.0    3529.41\n",
       "42185  87479.0   11520.00\n",
       "42186  87480.0  157350.07\n",
       "42187  87482.0   50000.00\n",
       "\n",
       "[42188 rows x 2 columns]>"
      ]
     },
     "execution_count": 97,
     "metadata": {},
     "output_type": "execute_result"
    }
   ],
   "source": [
    "#Compute Monetary Value\n",
    "monetary_df = df.groupby(by='DonorId', as_index=False)['Value'].sum()\n",
    "monetary_df.columns = ['DonorId', 'Monetary']\n",
    "monetary_df.head"
   ]
  },
  {
   "cell_type": "code",
   "execution_count": 98,
   "metadata": {},
   "outputs": [],
   "source": [
    "#merge R, F & M values into one df\n",
    "rfm = pd.merge(recency_df, frequency_df, on='DonorId')\n",
    "rfm = pd.merge(rfm, monetary_df, on='DonorId')"
   ]
  },
  {
   "cell_type": "code",
   "execution_count": 127,
   "metadata": {},
   "outputs": [],
   "source": [
    "# Define scoring criteria for each RFM value\n",
    "recency_scores = [5, 4, 3, 2, 1]\n",
    "frequency_scores = [1, 2, 3, 4, 5]\n",
    "monetary_scores = [1, 2, 3, 4, 5]\n",
    "recency_weight = 1\n",
    "frequency_weight = 1\n",
    "monetary_weight = 1"
   ]
  },
  {
   "cell_type": "code",
   "execution_count": 128,
   "metadata": {},
   "outputs": [],
   "source": [
    "# Calculate RFM scores\n",
    "rfm['RecencyScore'] = pd.cut(rfm['Recency'], bins=len(recency_scores), labels=recency_scores)\n",
    "rfm['FrequencyScore'] = pd.cut(rfm['Frequency'], bins=len(frequency_scores), labels=frequency_scores)\n",
    "rfm['MonetaryScore'] = pd.cut(rfm['Monetary'], bins=len(monetary_scores), labels=monetary_scores)\n",
    "# Convert RFM scores to numeric type\n",
    "rfm[['RecencyScore', 'FrequencyScore', 'MonetaryScore']] = rfm[['RecencyScore', 'FrequencyScore', 'MonetaryScore']].astype(int)"
   ]
  },
  {
   "cell_type": "code",
   "execution_count": 129,
   "metadata": {},
   "outputs": [],
   "source": [
    "#Calculate RFM score\n",
    "rfm['RFM_Score'] = recency_weight*rfm['RecencyScore'] + frequency_weight*rfm['FrequencyScore'] + monetary_weight*rfm['MonetaryScore']\n",
    "\n",
    "#Segment donors based on score\n",
    "segment_labels = ['Low-Value', 'Mid-Value', 'High-Value']\n",
    "rfm['RFM_Segment'] = pd.qcut(rfm['RFM_Score'], q=3, labels=segment_labels)"
   ]
  },
  {
   "cell_type": "code",
   "execution_count": 131,
   "metadata": {},
   "outputs": [],
   "source": [
    "# Create a new column for RFM Customer Segments\n",
    "rfm['RFM_Customer_Segment'] = ''\n",
    "# Assign RFM segments based on the RFM score\n",
    "rfm.loc[rfm['RFM_Score'] >= 9, 'RFM_Customer_Segment'] = 'Champions'\n",
    "rfm.loc[(rfm['RFM_Score'] >= 6) & (rfm['RFM_Score'] < 9), 'RFM_Customer_Segment'] = 'Potential Loyalists'\n",
    "rfm.loc[(rfm['RFM_Score'] >= 5) & (rfm['RFM_Score'] < 6), 'RFM_Customer_Segment'] = 'At Risk Customers'\n",
    "rfm.loc[(rfm['RFM_Score'] >= 4) & (rfm['RFM_Score'] < 5), 'RFM_Customer_Segment'] = \"Can't Lose\"\n",
    "rfm.loc[(rfm['RFM_Score'] >= 3) & (rfm['RFM_Score'] < 4), 'RFM_Customer_Segment'] = \"Lost\""
   ]
  },
  {
   "cell_type": "code",
   "execution_count": 132,
   "metadata": {},
   "outputs": [
    {
     "data": {
      "text/html": [
       "<div>\n",
       "<style scoped>\n",
       "    .dataframe tbody tr th:only-of-type {\n",
       "        vertical-align: middle;\n",
       "    }\n",
       "\n",
       "    .dataframe tbody tr th {\n",
       "        vertical-align: top;\n",
       "    }\n",
       "\n",
       "    .dataframe thead th {\n",
       "        text-align: right;\n",
       "    }\n",
       "</style>\n",
       "<table border=\"1\" class=\"dataframe\">\n",
       "  <thead>\n",
       "    <tr style=\"text-align: right;\">\n",
       "      <th></th>\n",
       "      <th>DonorId</th>\n",
       "      <th>LastPurchaseDate</th>\n",
       "      <th>Recency</th>\n",
       "      <th>Frequency</th>\n",
       "      <th>Monetary</th>\n",
       "      <th>RecencyScore</th>\n",
       "      <th>FrequencyScore</th>\n",
       "      <th>MonetaryScore</th>\n",
       "      <th>RFM_Score</th>\n",
       "      <th>RFM_Segment</th>\n",
       "      <th>RFM_Customer_Segment</th>\n",
       "    </tr>\n",
       "  </thead>\n",
       "  <tbody>\n",
       "    <tr>\n",
       "      <th>0</th>\n",
       "      <td>1.0</td>\n",
       "      <td>2001-05-14</td>\n",
       "      <td>6685</td>\n",
       "      <td>2</td>\n",
       "      <td>53000.00</td>\n",
       "      <td>1</td>\n",
       "      <td>1</td>\n",
       "      <td>1</td>\n",
       "      <td>3</td>\n",
       "      <td>Low-Value</td>\n",
       "      <td>Lost</td>\n",
       "    </tr>\n",
       "    <tr>\n",
       "      <th>1</th>\n",
       "      <td>2.0</td>\n",
       "      <td>2003-08-11</td>\n",
       "      <td>5866</td>\n",
       "      <td>2</td>\n",
       "      <td>118680.84</td>\n",
       "      <td>1</td>\n",
       "      <td>1</td>\n",
       "      <td>1</td>\n",
       "      <td>3</td>\n",
       "      <td>Low-Value</td>\n",
       "      <td>Lost</td>\n",
       "    </tr>\n",
       "    <tr>\n",
       "      <th>2</th>\n",
       "      <td>3.0</td>\n",
       "      <td>2015-02-18</td>\n",
       "      <td>1657</td>\n",
       "      <td>3</td>\n",
       "      <td>26625.00</td>\n",
       "      <td>4</td>\n",
       "      <td>1</td>\n",
       "      <td>1</td>\n",
       "      <td>6</td>\n",
       "      <td>High-Value</td>\n",
       "      <td>Potential Loyalists</td>\n",
       "    </tr>\n",
       "    <tr>\n",
       "      <th>3</th>\n",
       "      <td>4.0</td>\n",
       "      <td>2010-12-31</td>\n",
       "      <td>3167</td>\n",
       "      <td>10</td>\n",
       "      <td>59495.89</td>\n",
       "      <td>3</td>\n",
       "      <td>1</td>\n",
       "      <td>1</td>\n",
       "      <td>5</td>\n",
       "      <td>Mid-Value</td>\n",
       "      <td>At Risk Customers</td>\n",
       "    </tr>\n",
       "    <tr>\n",
       "      <th>4</th>\n",
       "      <td>5.0</td>\n",
       "      <td>2009-12-15</td>\n",
       "      <td>3548</td>\n",
       "      <td>3</td>\n",
       "      <td>7700.00</td>\n",
       "      <td>3</td>\n",
       "      <td>1</td>\n",
       "      <td>1</td>\n",
       "      <td>5</td>\n",
       "      <td>Mid-Value</td>\n",
       "      <td>At Risk Customers</td>\n",
       "    </tr>\n",
       "    <tr>\n",
       "      <th>...</th>\n",
       "      <td>...</td>\n",
       "      <td>...</td>\n",
       "      <td>...</td>\n",
       "      <td>...</td>\n",
       "      <td>...</td>\n",
       "      <td>...</td>\n",
       "      <td>...</td>\n",
       "      <td>...</td>\n",
       "      <td>...</td>\n",
       "      <td>...</td>\n",
       "      <td>...</td>\n",
       "    </tr>\n",
       "    <tr>\n",
       "      <th>42183</th>\n",
       "      <td>87473.0</td>\n",
       "      <td>2019-08-05</td>\n",
       "      <td>28</td>\n",
       "      <td>1</td>\n",
       "      <td>4000.00</td>\n",
       "      <td>5</td>\n",
       "      <td>1</td>\n",
       "      <td>1</td>\n",
       "      <td>7</td>\n",
       "      <td>High-Value</td>\n",
       "      <td>Potential Loyalists</td>\n",
       "    </tr>\n",
       "    <tr>\n",
       "      <th>42184</th>\n",
       "      <td>87478.0</td>\n",
       "      <td>2018-11-01</td>\n",
       "      <td>305</td>\n",
       "      <td>2</td>\n",
       "      <td>3529.41</td>\n",
       "      <td>5</td>\n",
       "      <td>1</td>\n",
       "      <td>1</td>\n",
       "      <td>7</td>\n",
       "      <td>High-Value</td>\n",
       "      <td>Potential Loyalists</td>\n",
       "    </tr>\n",
       "    <tr>\n",
       "      <th>42185</th>\n",
       "      <td>87479.0</td>\n",
       "      <td>2009-12-29</td>\n",
       "      <td>3534</td>\n",
       "      <td>1</td>\n",
       "      <td>11520.00</td>\n",
       "      <td>3</td>\n",
       "      <td>1</td>\n",
       "      <td>1</td>\n",
       "      <td>5</td>\n",
       "      <td>Mid-Value</td>\n",
       "      <td>At Risk Customers</td>\n",
       "    </tr>\n",
       "    <tr>\n",
       "      <th>42186</th>\n",
       "      <td>87480.0</td>\n",
       "      <td>2017-03-13</td>\n",
       "      <td>903</td>\n",
       "      <td>1</td>\n",
       "      <td>157350.07</td>\n",
       "      <td>5</td>\n",
       "      <td>1</td>\n",
       "      <td>1</td>\n",
       "      <td>7</td>\n",
       "      <td>High-Value</td>\n",
       "      <td>Potential Loyalists</td>\n",
       "    </tr>\n",
       "    <tr>\n",
       "      <th>42187</th>\n",
       "      <td>87482.0</td>\n",
       "      <td>2014-02-06</td>\n",
       "      <td>2034</td>\n",
       "      <td>1</td>\n",
       "      <td>50000.00</td>\n",
       "      <td>4</td>\n",
       "      <td>1</td>\n",
       "      <td>1</td>\n",
       "      <td>6</td>\n",
       "      <td>High-Value</td>\n",
       "      <td>Potential Loyalists</td>\n",
       "    </tr>\n",
       "  </tbody>\n",
       "</table>\n",
       "<p>42188 rows × 11 columns</p>\n",
       "</div>"
      ],
      "text/plain": [
       "       DonorId LastPurchaseDate  Recency  Frequency   Monetary  RecencyScore  \\\n",
       "0          1.0       2001-05-14     6685          2   53000.00             1   \n",
       "1          2.0       2003-08-11     5866          2  118680.84             1   \n",
       "2          3.0       2015-02-18     1657          3   26625.00             4   \n",
       "3          4.0       2010-12-31     3167         10   59495.89             3   \n",
       "4          5.0       2009-12-15     3548          3    7700.00             3   \n",
       "...        ...              ...      ...        ...        ...           ...   \n",
       "42183  87473.0       2019-08-05       28          1    4000.00             5   \n",
       "42184  87478.0       2018-11-01      305          2    3529.41             5   \n",
       "42185  87479.0       2009-12-29     3534          1   11520.00             3   \n",
       "42186  87480.0       2017-03-13      903          1  157350.07             5   \n",
       "42187  87482.0       2014-02-06     2034          1   50000.00             4   \n",
       "\n",
       "       FrequencyScore  MonetaryScore  RFM_Score RFM_Segment  \\\n",
       "0                   1              1          3   Low-Value   \n",
       "1                   1              1          3   Low-Value   \n",
       "2                   1              1          6  High-Value   \n",
       "3                   1              1          5   Mid-Value   \n",
       "4                   1              1          5   Mid-Value   \n",
       "...               ...            ...        ...         ...   \n",
       "42183               1              1          7  High-Value   \n",
       "42184               1              1          7  High-Value   \n",
       "42185               1              1          5   Mid-Value   \n",
       "42186               1              1          7  High-Value   \n",
       "42187               1              1          6  High-Value   \n",
       "\n",
       "      RFM_Customer_Segment  \n",
       "0                     Lost  \n",
       "1                     Lost  \n",
       "2      Potential Loyalists  \n",
       "3        At Risk Customers  \n",
       "4        At Risk Customers  \n",
       "...                    ...  \n",
       "42183  Potential Loyalists  \n",
       "42184  Potential Loyalists  \n",
       "42185    At Risk Customers  \n",
       "42186  Potential Loyalists  \n",
       "42187  Potential Loyalists  \n",
       "\n",
       "[42188 rows x 11 columns]"
      ]
     },
     "execution_count": 132,
     "metadata": {},
     "output_type": "execute_result"
    }
   ],
   "source": [
    "rfm"
   ]
  }
 ],
 "metadata": {
  "kernelspec": {
   "display_name": "RFM",
   "language": "python",
   "name": "python3"
  },
  "language_info": {
   "codemirror_mode": {
    "name": "ipython",
    "version": 3
   },
   "file_extension": ".py",
   "mimetype": "text/x-python",
   "name": "python",
   "nbconvert_exporter": "python",
   "pygments_lexer": "ipython3",
   "version": "3.12.4"
  }
 },
 "nbformat": 4,
 "nbformat_minor": 2
}
