{
 "cells": [
  {
   "attachments": {},
   "cell_type": "markdown",
   "metadata": {},
   "source": [
    "Conduct RFM (recency, frequency, monetary value) analysis on political donors in the UK"
   ]
  },
  {
   "cell_type": "code",
   "execution_count": 34,
   "metadata": {},
   "outputs": [],
   "source": [
    "#imports\n",
    "import pandas as pd\n",
    "import datetime as dt \n",
    "import numpy as np"
   ]
  },
  {
   "attachments": {},
   "cell_type": "markdown",
   "metadata": {},
   "source": [
    "# DATA PROCESSING"
   ]
  },
  {
   "cell_type": "code",
   "execution_count": 35,
   "metadata": {},
   "outputs": [
    {
     "name": "stderr",
     "output_type": "stream",
     "text": [
      "/var/folders/9t/ywq9gg3s4zbgn2zw5tfskbv00000gn/T/ipykernel_23597/3107819911.py:2: DtypeWarning: Columns (16) have mixed types. Specify dtype option on import or set low_memory=False.\n",
      "  df = pd.read_csv('data/Donations accepted by political parties.csv')\n"
     ]
    },
    {
     "data": {
      "text/plain": [
       "(65278, 29)"
      ]
     },
     "execution_count": 35,
     "metadata": {},
     "output_type": "execute_result"
    }
   ],
   "source": [
    "#read data\n",
    "df = pd.read_csv('data/Donations accepted by political parties.csv')\n",
    "df.shape"
   ]
  },
  {
   "cell_type": "code",
   "execution_count": 36,
   "metadata": {},
   "outputs": [
    {
     "data": {
      "text/plain": [
       "(62492, 29)"
      ]
     },
     "execution_count": 36,
     "metadata": {},
     "output_type": "execute_result"
    }
   ],
   "source": [
    "\n",
    "#drop all nans from the columns that we will be using\n",
    "df = df.dropna(subset=['Value', 'DonorId', 'ReceivedDate'])\n",
    "df.shape"
   ]
  },
  {
   "cell_type": "code",
   "execution_count": 37,
   "metadata": {},
   "outputs": [],
   "source": [
    "#change received data from string to datetime\n",
    "df['ReceivedDate'] = pd.to_datetime(df['ReceivedDate'], format='%d/%m/%Y')\n",
    "df['Value'] = df['Value'].replace('[\\£,]', '', regex=True).astype(float)\n",
    "\n"
   ]
  },
  {
   "attachments": {},
   "cell_type": "markdown",
   "metadata": {},
   "source": [
    "# RFM ANALYSIS "
   ]
  },
  {
   "cell_type": "code",
   "execution_count": 38,
   "metadata": {},
   "outputs": [
    {
     "data": {
      "text/plain": [
       "<bound method NDFrame.head of        DonorId LastPurchaseDate  Recency\n",
       "0          1.0       2001-05-14     6685\n",
       "1          2.0       2003-08-11     5866\n",
       "2          3.0       2015-02-18     1657\n",
       "3          4.0       2010-12-31     3167\n",
       "4          5.0       2009-12-15     3548\n",
       "...        ...              ...      ...\n",
       "42183  87473.0       2019-08-05       28\n",
       "42184  87478.0       2018-11-01      305\n",
       "42185  87479.0       2009-12-29     3534\n",
       "42186  87480.0       2017-03-13      903\n",
       "42187  87482.0       2014-02-06     2034\n",
       "\n",
       "[42188 rows x 3 columns]>"
      ]
     },
     "execution_count": 38,
     "metadata": {},
     "output_type": "execute_result"
    }
   ],
   "source": [
    "#Compute recency values\n",
    "recency_df = df.groupby(by='DonorId', as_index=False)['ReceivedDate'].max()\n",
    "recency_df.columns = ['DonorId', 'LastPurchaseDate']\n",
    "recent_date = recency_df['LastPurchaseDate'].max()\n",
    "recency_df['Recency'] = recency_df['LastPurchaseDate'].apply(\n",
    "    lambda x: (recent_date - x).days)\n",
    "recency_df.head"
   ]
  },
  {
   "cell_type": "code",
   "execution_count": 39,
   "metadata": {},
   "outputs": [
    {
     "data": {
      "text/plain": [
       "<bound method NDFrame.head of        DonorId  Frequency\n",
       "0          1.0          2\n",
       "1          2.0          2\n",
       "2          3.0          3\n",
       "3          4.0         10\n",
       "4          5.0          3\n",
       "...        ...        ...\n",
       "42183  87473.0          1\n",
       "42184  87478.0          2\n",
       "42185  87479.0          1\n",
       "42186  87480.0          1\n",
       "42187  87482.0          1\n",
       "\n",
       "[42188 rows x 2 columns]>"
      ]
     },
     "execution_count": 39,
     "metadata": {},
     "output_type": "execute_result"
    }
   ],
   "source": [
    "#Compute Frequency \n",
    "frequency_df = df.drop_duplicates().groupby(\n",
    "    by=['DonorId'], as_index=False)['ReceivedDate'].count()\n",
    "frequency_df.columns = ['DonorId', 'Frequency']\n",
    "frequency_df.head"
   ]
  },
  {
   "cell_type": "code",
   "execution_count": 40,
   "metadata": {},
   "outputs": [
    {
     "data": {
      "text/plain": [
       "<bound method NDFrame.head of        DonorId   Monetary\n",
       "0          1.0   53000.00\n",
       "1          2.0  118680.84\n",
       "2          3.0   26625.00\n",
       "3          4.0   59495.89\n",
       "4          5.0    7700.00\n",
       "...        ...        ...\n",
       "42183  87473.0    4000.00\n",
       "42184  87478.0    3529.41\n",
       "42185  87479.0   11520.00\n",
       "42186  87480.0  157350.07\n",
       "42187  87482.0   50000.00\n",
       "\n",
       "[42188 rows x 2 columns]>"
      ]
     },
     "execution_count": 40,
     "metadata": {},
     "output_type": "execute_result"
    }
   ],
   "source": [
    "#Compute Monetary Value\n",
    "monetary_df = df.groupby(by='DonorId', as_index=False)['Value'].sum()\n",
    "monetary_df.columns = ['DonorId', 'Monetary']\n",
    "monetary_df.head"
   ]
  },
  {
   "cell_type": "code",
   "execution_count": 49,
   "metadata": {},
   "outputs": [],
   "source": [
    "#merge R, F & M values into one df\n",
    "rfm = pd.merge(recency_df, frequency_df, on='DonorId')\n",
    "rfm = pd.merge(rfm, monetary_df, on='DonorId')"
   ]
  },
  {
   "cell_type": "code",
   "execution_count": 50,
   "metadata": {},
   "outputs": [],
   "source": [
    "#rank and normalize RFM values\n",
    "rfm['R_rank'] = rfm['Recency'].rank(ascending=False)\n",
    "rfm['F_rank'] = rfm['Frequency'].rank(ascending=True)\n",
    "rfm['M_rank'] = rfm['Monetary'].rank(ascending=True)\n",
    " \n",
    "# normalizing the rank of the customers\n",
    "rfm['R_rank_norm'] = (rfm['R_rank']/rfm['R_rank'].max())*100\n",
    "rfm['F_rank_norm'] = (rfm['F_rank']/rfm['F_rank'].max())*100\n",
    "rfm['M_rank_norm'] = (rfm['F_rank']/rfm['M_rank'].max())*100\n",
    " \n",
    "rfm.drop(columns=['R_rank', 'F_rank', 'M_rank'], inplace=True)"
   ]
  },
  {
   "cell_type": "code",
   "execution_count": 51,
   "metadata": {},
   "outputs": [
    {
     "data": {
      "text/html": [
       "<div>\n",
       "<style scoped>\n",
       "    .dataframe tbody tr th:only-of-type {\n",
       "        vertical-align: middle;\n",
       "    }\n",
       "\n",
       "    .dataframe tbody tr th {\n",
       "        vertical-align: top;\n",
       "    }\n",
       "\n",
       "    .dataframe thead th {\n",
       "        text-align: right;\n",
       "    }\n",
       "</style>\n",
       "<table border=\"1\" class=\"dataframe\">\n",
       "  <thead>\n",
       "    <tr style=\"text-align: right;\">\n",
       "      <th></th>\n",
       "      <th>DonorId</th>\n",
       "      <th>LastPurchaseDate</th>\n",
       "      <th>Recency</th>\n",
       "      <th>Frequency</th>\n",
       "      <th>Monetary</th>\n",
       "      <th>R_rank_norm</th>\n",
       "      <th>F_rank_norm</th>\n",
       "      <th>M_rank_norm</th>\n",
       "    </tr>\n",
       "  </thead>\n",
       "  <tbody>\n",
       "    <tr>\n",
       "      <th>0</th>\n",
       "      <td>1.0</td>\n",
       "      <td>2001-05-14</td>\n",
       "      <td>6685</td>\n",
       "      <td>2</td>\n",
       "      <td>53000.00</td>\n",
       "      <td>2.093012</td>\n",
       "      <td>92.692235</td>\n",
       "      <td>92.692235</td>\n",
       "    </tr>\n",
       "    <tr>\n",
       "      <th>1</th>\n",
       "      <td>2.0</td>\n",
       "      <td>2003-08-11</td>\n",
       "      <td>5866</td>\n",
       "      <td>2</td>\n",
       "      <td>118680.84</td>\n",
       "      <td>12.198967</td>\n",
       "      <td>92.692235</td>\n",
       "      <td>92.692235</td>\n",
       "    </tr>\n",
       "    <tr>\n",
       "      <th>2</th>\n",
       "      <td>3.0</td>\n",
       "      <td>2015-02-18</td>\n",
       "      <td>1657</td>\n",
       "      <td>3</td>\n",
       "      <td>26625.00</td>\n",
       "      <td>84.246705</td>\n",
       "      <td>95.422869</td>\n",
       "      <td>95.422869</td>\n",
       "    </tr>\n",
       "    <tr>\n",
       "      <th>3</th>\n",
       "      <td>4.0</td>\n",
       "      <td>2010-12-31</td>\n",
       "      <td>3167</td>\n",
       "      <td>10</td>\n",
       "      <td>59495.89</td>\n",
       "      <td>76.621314</td>\n",
       "      <td>98.880013</td>\n",
       "      <td>98.880013</td>\n",
       "    </tr>\n",
       "    <tr>\n",
       "      <th>4</th>\n",
       "      <td>5.0</td>\n",
       "      <td>2009-12-15</td>\n",
       "      <td>3548</td>\n",
       "      <td>3</td>\n",
       "      <td>7700.00</td>\n",
       "      <td>65.365744</td>\n",
       "      <td>95.422869</td>\n",
       "      <td>95.422869</td>\n",
       "    </tr>\n",
       "    <tr>\n",
       "      <th>...</th>\n",
       "      <td>...</td>\n",
       "      <td>...</td>\n",
       "      <td>...</td>\n",
       "      <td>...</td>\n",
       "      <td>...</td>\n",
       "      <td>...</td>\n",
       "      <td>...</td>\n",
       "      <td>...</td>\n",
       "    </tr>\n",
       "    <tr>\n",
       "      <th>42183</th>\n",
       "      <td>87473.0</td>\n",
       "      <td>2019-08-05</td>\n",
       "      <td>28</td>\n",
       "      <td>1</td>\n",
       "      <td>4000.00</td>\n",
       "      <td>99.982222</td>\n",
       "      <td>45.377833</td>\n",
       "      <td>45.377833</td>\n",
       "    </tr>\n",
       "    <tr>\n",
       "      <th>42184</th>\n",
       "      <td>87478.0</td>\n",
       "      <td>2018-11-01</td>\n",
       "      <td>305</td>\n",
       "      <td>2</td>\n",
       "      <td>3529.41</td>\n",
       "      <td>97.112923</td>\n",
       "      <td>92.692235</td>\n",
       "      <td>92.692235</td>\n",
       "    </tr>\n",
       "    <tr>\n",
       "      <th>42185</th>\n",
       "      <td>87479.0</td>\n",
       "      <td>2009-12-29</td>\n",
       "      <td>3534</td>\n",
       "      <td>1</td>\n",
       "      <td>11520.00</td>\n",
       "      <td>65.753295</td>\n",
       "      <td>45.377833</td>\n",
       "      <td>45.377833</td>\n",
       "    </tr>\n",
       "    <tr>\n",
       "      <th>42186</th>\n",
       "      <td>87480.0</td>\n",
       "      <td>2017-03-13</td>\n",
       "      <td>903</td>\n",
       "      <td>1</td>\n",
       "      <td>157350.07</td>\n",
       "      <td>91.110031</td>\n",
       "      <td>45.377833</td>\n",
       "      <td>45.377833</td>\n",
       "    </tr>\n",
       "    <tr>\n",
       "      <th>42187</th>\n",
       "      <td>87482.0</td>\n",
       "      <td>2014-02-06</td>\n",
       "      <td>2034</td>\n",
       "      <td>1</td>\n",
       "      <td>50000.00</td>\n",
       "      <td>80.679340</td>\n",
       "      <td>45.377833</td>\n",
       "      <td>45.377833</td>\n",
       "    </tr>\n",
       "  </tbody>\n",
       "</table>\n",
       "<p>42188 rows × 8 columns</p>\n",
       "</div>"
      ],
      "text/plain": [
       "       DonorId LastPurchaseDate  Recency  Frequency   Monetary  R_rank_norm  \\\n",
       "0          1.0       2001-05-14     6685          2   53000.00     2.093012   \n",
       "1          2.0       2003-08-11     5866          2  118680.84    12.198967   \n",
       "2          3.0       2015-02-18     1657          3   26625.00    84.246705   \n",
       "3          4.0       2010-12-31     3167         10   59495.89    76.621314   \n",
       "4          5.0       2009-12-15     3548          3    7700.00    65.365744   \n",
       "...        ...              ...      ...        ...        ...          ...   \n",
       "42183  87473.0       2019-08-05       28          1    4000.00    99.982222   \n",
       "42184  87478.0       2018-11-01      305          2    3529.41    97.112923   \n",
       "42185  87479.0       2009-12-29     3534          1   11520.00    65.753295   \n",
       "42186  87480.0       2017-03-13      903          1  157350.07    91.110031   \n",
       "42187  87482.0       2014-02-06     2034          1   50000.00    80.679340   \n",
       "\n",
       "       F_rank_norm  M_rank_norm  \n",
       "0        92.692235    92.692235  \n",
       "1        92.692235    92.692235  \n",
       "2        95.422869    95.422869  \n",
       "3        98.880013    98.880013  \n",
       "4        95.422869    95.422869  \n",
       "...            ...          ...  \n",
       "42183    45.377833    45.377833  \n",
       "42184    92.692235    92.692235  \n",
       "42185    45.377833    45.377833  \n",
       "42186    45.377833    45.377833  \n",
       "42187    45.377833    45.377833  \n",
       "\n",
       "[42188 rows x 8 columns]"
      ]
     },
     "execution_count": 51,
     "metadata": {},
     "output_type": "execute_result"
    }
   ],
   "source": [
    "rfm"
   ]
  },
  {
   "cell_type": "code",
   "execution_count": 52,
   "metadata": {},
   "outputs": [
    {
     "data": {
      "text/plain": [
       "<bound method NDFrame.head of        DonorId  RFM_Score\n",
       "0          1.0       3.96\n",
       "1          2.0       4.03\n",
       "2          3.0       4.69\n",
       "3          4.0       4.78\n",
       "4          5.0       4.55\n",
       "...        ...        ...\n",
       "42183  87473.0       2.68\n",
       "42184  87478.0       4.67\n",
       "42185  87479.0       2.42\n",
       "42186  87480.0       2.61\n",
       "42187  87482.0       2.53\n",
       "\n",
       "[42188 rows x 2 columns]>"
      ]
     },
     "execution_count": 52,
     "metadata": {},
     "output_type": "execute_result"
    }
   ],
   "source": [
    "#calculate RFM score\n",
    "rfm['RFM_Score'] = 0.15*rfm['R_rank_norm']+0.28 * rfm['F_rank_norm']+0.57*rfm['M_rank_norm']\n",
    "rfm['RFM_Score'] *= 0.05\n",
    "rfm = rfm.round(2)\n",
    "rfm[['DonorId', 'RFM_Score']].head\n"
   ]
  }
 ],
 "metadata": {
  "kernelspec": {
   "display_name": "RFM",
   "language": "python",
   "name": "python3"
  },
  "language_info": {
   "codemirror_mode": {
    "name": "ipython",
    "version": 3
   },
   "file_extension": ".py",
   "mimetype": "text/x-python",
   "name": "python",
   "nbconvert_exporter": "python",
   "pygments_lexer": "ipython3",
   "version": "3.12.4"
  }
 },
 "nbformat": 4,
 "nbformat_minor": 2
}
